{
 "cells": [
  {
   "cell_type": "code",
   "execution_count": 2,
   "metadata": {},
   "outputs": [
    {
     "name": "stdin",
     "output_type": "stream",
     "text": [
      "enter a string this is how it work and this is the only way to do this\n"
     ]
    },
    {
     "name": "stdout",
     "output_type": "stream",
     "text": [
      "length of string\n",
      "55\n"
     ]
    }
   ],
   "source": [
    "#s\n",
    "str=input(\"enter a string\")\n",
    "print(\"length of string\")\n",
    "print(len(str))"
   ]
  },
  {
   "cell_type": "code",
   "execution_count": 7,
   "metadata": {},
   "outputs": [
    {
     "name": "stdin",
     "output_type": "stream",
     "text": [
      "enter a string this is how it work\n"
     ]
    },
    {
     "name": "stdout",
     "output_type": "stream",
     "text": [
      "count of spaces in string is 4\n"
     ]
    }
   ],
   "source": [
    "count=0\n",
    "str=input(\"enter a string\")\n",
    "for i in  range(len(str)):\n",
    "    if str[i]==\" \":\n",
    "        count+=1\n",
    "print(\"count of spaces in string is\",count)\n"
   ]
  },
  {
   "cell_type": "code",
   "execution_count": 6,
   "metadata": {},
   "outputs": [
    {
     "name": "stdin",
     "output_type": "stream",
     "text": [
      "enter a string this is how it work\n"
     ]
    },
    {
     "name": "stdout",
     "output_type": "stream",
     "text": [
      "count of words 5\n"
     ]
    }
   ],
   "source": [
    "count=0\n",
    "str=input(\"enter a string\")\n",
    "for i in  range(len(str)):\n",
    "    if str[i]==\" \":\n",
    "        count+=1\n",
    "print(\"count of words\",count+1)\n"
   ]
  },
  {
   "cell_type": "code",
   "execution_count": 5,
   "metadata": {},
   "outputs": [
    {
     "name": "stdin",
     "output_type": "stream",
     "text": [
      "Enter the string: this is how it work and this is the only way to do this\n"
     ]
    },
    {
     "name": "stdout",
     "output_type": "stream",
     "text": [
      "this was  how it work and this was  the only way to do this\n"
     ]
    }
   ],
   "source": [
    "str=input(\"Enter the string:\")\n",
    "word=str.replace(' is' , ' was ')\n",
    "print(word)"
   ]
  },
  {
   "cell_type": "code",
   "execution_count": 8,
   "metadata": {},
   "outputs": [
    {
     "name": "stdin",
     "output_type": "stream",
     "text": [
      "enter first string kajal\n",
      "enter second string thakur\n"
     ]
    },
    {
     "name": "stdout",
     "output_type": "stream",
     "text": [
      "new string is kajalthakur\n"
     ]
    }
   ],
   "source": [
    "str1=input(\"enter first string\")\n",
    "str2=input(\"enter second string\")\n",
    "conc_str=str1+str2\n",
    "print(\"new string is\",conc_str)"
   ]
  },
  {
   "cell_type": "code",
   "execution_count": null,
   "metadata": {},
   "outputs": [],
   "source": []
  }
 ],
 "metadata": {
  "kernelspec": {
   "display_name": "Python 3",
   "language": "python",
   "name": "python3"
  },
  "language_info": {
   "codemirror_mode": {
    "name": "ipython",
    "version": 3
   },
   "file_extension": ".py",
   "mimetype": "text/x-python",
   "name": "python",
   "nbconvert_exporter": "python",
   "pygments_lexer": "ipython3",
   "version": "3.7.3"
  }
 },
 "nbformat": 4,
 "nbformat_minor": 4
}
