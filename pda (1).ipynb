{
 "cells": [
  {
   "cell_type": "code",
   "execution_count": 12,
   "metadata": {},
   "outputs": [
    {
     "name": "stdin",
     "output_type": "stream",
     "text": [
      "enter any string aa\n"
     ]
    },
    {
     "name": "stdout",
     "output_type": "stream",
     "text": [
      "String  not accepted\n"
     ]
    }
   ],
   "source": [
    "#pda for equal no of a's and b's\n",
    "class stack:\n",
    "    def __init__(self):\n",
    "        self.items = []\n",
    " \n",
    "    def isempty(self):\n",
    "        return self.items == []\n",
    " \n",
    "    def push(self, value):\n",
    "        self.items.append(value)\n",
    " \n",
    "    def pop(self):\n",
    "        return self.items.pop()\n",
    "s = stack()\n",
    "str=input(\"enter any string\")\n",
    "    for i in str:\n",
    "        if i=='a':\n",
    "            s.push(i)\n",
    "        elif i=='b':\n",
    "            s.pop()\n",
    "        else:\n",
    "            print(\" you have given wrong string\")        "
   ]
  },
  {
   "cell_type": "code",
   "execution_count": 13,
   "metadata": {},
   "outputs": [
    {
     "name": "stdin",
     "output_type": "stream",
     "text": [
      "enter any string aabb\n"
     ]
    }
   ],
   "source": [
    "str=input(\"enter any string\")\n",
    "pda(str)"
   ]
  },
  {
   "cell_type": "code",
   "execution_count": null,
   "metadata": {},
   "outputs": [],
   "source": [
    "if s.isempty()==True:\n",
    "    print(\"String accepted\")\n",
    "else:\n",
    "    print(\"String  not accepted\")\n",
    "    "
   ]
  }
 ],
 "metadata": {
  "kernelspec": {
   "display_name": "Python 3",
   "language": "python",
   "name": "python3"
  },
  "language_info": {
   "codemirror_mode": {
    "name": "ipython",
    "version": 3
   },
   "file_extension": ".py",
   "mimetype": "text/x-python",
   "name": "python",
   "nbconvert_exporter": "python",
   "pygments_lexer": "ipython3",
   "version": "3.7.3"
  }
 },
 "nbformat": 4,
 "nbformat_minor": 4
}
