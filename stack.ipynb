{
 "cells": [
  {
   "cell_type": "code",
   "execution_count": null,
   "metadata": {},
   "outputs": [
    {
     "name": "stdout",
     "output_type": "stream",
     "text": [
      "for push (push value)\n",
      "for pop (pop)\n",
      "want to exit then write exit\n"
     ]
    },
    {
     "name": "stdin",
     "output_type": "stream",
     "text": [
      "What would you like to do?  push 4\n"
     ]
    },
    {
     "name": "stdout",
     "output_type": "stream",
     "text": [
      "for push (push value)\n",
      "for pop (pop)\n",
      "want to exit then write exit\n"
     ]
    },
    {
     "name": "stdin",
     "output_type": "stream",
     "text": [
      "What would you like to do?  pop\n"
     ]
    },
    {
     "name": "stdout",
     "output_type": "stream",
     "text": [
      "Popped value: 4\n",
      "for push (push value)\n",
      "for pop (pop)\n",
      "want to exit then write exit\n"
     ]
    }
   ],
   "source": [
    "# program of stack\n",
    "class stack:\n",
    "    def __init__(self):\n",
    "        self.items = []\n",
    " \n",
    "    def isempty(self):\n",
    "        return self.items == []\n",
    " \n",
    "    def push(self, value):\n",
    "        self.items.append(value)\n",
    " \n",
    "    def pop(self):\n",
    "        return self.items.pop()\n",
    "s = stack()\n",
    "while True:\n",
    "    print(\"for push (push value)\")\n",
    "    print(\"for pop (pop)\")\n",
    "    print('want to exit then write exit')\n",
    "    a= input('What would you like to do? ').split()\n",
    " \n",
    "    operation = a[0].strip().lower()\n",
    "    if operation == 'push':\n",
    "        s.push(int(a[1]))\n",
    "    elif operation == 'pop':\n",
    "        if s.isempty():\n",
    "            print(\"Stack is empty.\")\n",
    "        else:\n",
    "            print(\"Popped value:\" , s.pop())\n",
    "    elif operation == 'exit':\n",
    "        break\n",
    "\n",
    " \n",
    " "
   ]
  },
  {
   "cell_type": "code",
   "execution_count": null,
   "metadata": {},
   "outputs": [],
   "source": []
  }
 ],
 "metadata": {
  "kernelspec": {
   "display_name": "Python 3",
   "language": "python",
   "name": "python3"
  },
  "language_info": {
   "codemirror_mode": {
    "name": "ipython",
    "version": 3
   },
   "file_extension": ".py",
   "mimetype": "text/x-python",
   "name": "python",
   "nbconvert_exporter": "python",
   "pygments_lexer": "ipython3",
   "version": "3.7.3"
  }
 },
 "nbformat": 4,
 "nbformat_minor": 4
}
