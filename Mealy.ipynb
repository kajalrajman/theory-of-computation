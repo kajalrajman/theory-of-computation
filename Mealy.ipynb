{
 "cells": [
  {
   "cell_type": "markdown",
   "metadata": {},
   "source": [
    " mealy for checking wether 1's are even/ odd in string by using of tuple within "
   ]
  },
  {
   "cell_type": "code",
   "execution_count": 2,
   "metadata": {},
   "outputs": [
    {
     "name": "stdout",
     "output_type": "stream",
     "text": [
      "even\n"
     ]
    }
   ],
   "source": [
    "mealy = {\n",
    "    'q0' : {\n",
    "        '0' : ('q0', 'even'),\n",
    "        '1' : ('q1', 'odd')\n",
    "    },\n",
    "    'q1' : {\n",
    "        '0' : ('q1', 'odd'),\n",
    "        '1' : ('q0', 'even')\n",
    "    }\n",
    "}\n",
    "\n",
    "def transition(str):\n",
    "    op = 'even'\n",
    "    cs = 'q0'\n",
    "    for i in str:\n",
    "        op = mealy[cs][i][1]\n",
    "        cs = mealy[cs][i][0]\n",
    "    return op\n",
    "\n",
    "print(transition(\"1111\"))"
   ]
  },
  {
   "cell_type": "code",
   "execution_count": 4,
   "metadata": {},
   "outputs": [
    {
     "name": "stdout",
     "output_type": "stream",
     "text": [
      "even\n"
     ]
    }
   ],
   "source": [
    "print(transition(\"0000\"))"
   ]
  },
  {
   "cell_type": "markdown",
   "metadata": {},
   "source": [
    " mealy for checking wether 1's are even/ odd in string by using of dictionary "
   ]
  },
  {
   "cell_type": "code",
   "execution_count": 13,
   "metadata": {},
   "outputs": [
    {
     "name": "stdout",
     "output_type": "stream",
     "text": [
      "odd\n"
     ]
    }
   ],
   "source": [
    "mealy = {\n",
    "    'q0' : {\n",
    "        '0' : {'st':'q0', \n",
    "               'op':'even'},\n",
    "        '1' : {'st':'q1', \n",
    "               'op':'odd'}\n",
    "    },\n",
    "    'q1' : {\n",
    "        '0' : {'st':'q1', \n",
    "               'op':'odd'},\n",
    "        '1' : {'st':'q0', \n",
    "               'op':'even'}\n",
    "    }\n",
    "}\n",
    "\n",
    "def transition(str):\n",
    "    cs = 'q0'\n",
    "    op = 'even'\n",
    "    for i in str:\n",
    "        op = mealy[cs][i]['op']\n",
    "        cs = mealy[cs][i]['st']\n",
    "    return op\n",
    "print(transition(\"1\"))"
   ]
  },
  {
   "cell_type": "code",
   "execution_count": 12,
   "metadata": {},
   "outputs": [
    {
     "name": "stdout",
     "output_type": "stream",
     "text": [
      "even\n"
     ]
    }
   ],
   "source": [
    "print(transition(\"00\"))"
   ]
  },
  {
   "cell_type": "code",
   "execution_count": null,
   "metadata": {},
   "outputs": [],
   "source": [
    "mealy for checking wether 1's are even/ odd in string by using of list within dictionary "
   ]
  },
  {
   "cell_type": "code",
   "execution_count": 16,
   "metadata": {},
   "outputs": [
    {
     "name": "stdout",
     "output_type": "stream",
     "text": [
      "even\n"
     ]
    }
   ],
   "source": [
    "mealy = {\n",
    "    'q0' : {\n",
    "        '0' : ['q0', 'even'],\n",
    "        '1' : ['q1', 'odd']\n",
    "    },\n",
    "    'q1' : {\n",
    "        '0' : ['q1', 'odd'],\n",
    "        '1' : ['q0', 'even']\n",
    "    }\n",
    "}\n",
    "def transition(str):\n",
    "    op = 'even'\n",
    "    cs = 'q0'\n",
    "    for i in str:\n",
    "        op = mealy[cs][i][1]\n",
    "        cs = mealy[cs][i][0]\n",
    "    return op\n",
    "print(transition(\"11\"))"
   ]
  },
  {
   "cell_type": "code",
   "execution_count": 17,
   "metadata": {},
   "outputs": [
    {
     "name": "stdout",
     "output_type": "stream",
     "text": [
      "odd\n"
     ]
    }
   ],
   "source": [
    "print(transition(\"010101\"))"
   ]
  },
  {
   "cell_type": "code",
   "execution_count": null,
   "metadata": {},
   "outputs": [],
   "source": []
  }
 ],
 "metadata": {
  "kernelspec": {
   "display_name": "Python 3",
   "language": "python",
   "name": "python3"
  },
  "language_info": {
   "codemirror_mode": {
    "name": "ipython",
    "version": 3
   },
   "file_extension": ".py",
   "mimetype": "text/x-python",
   "name": "python",
   "nbconvert_exporter": "python",
   "pygments_lexer": "ipython3",
   "version": "3.7.3"
  }
 },
 "nbformat": 4,
 "nbformat_minor": 4
}
