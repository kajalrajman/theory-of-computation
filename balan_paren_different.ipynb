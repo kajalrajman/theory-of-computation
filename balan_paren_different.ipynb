{
 "cells": [
  {
   "cell_type": "code",
   "execution_count": null,
   "metadata": {},
   "outputs": [],
   "source": [
    "Program for balance parenthesis(different)"
   ]
  },
  {
   "cell_type": "code",
   "execution_count": 2,
   "metadata": {},
   "outputs": [],
   "source": [
    "class stack:\n",
    "    def __init__(self):\n",
    "        self.items = []\n",
    " \n",
    "    def isempty(self):\n",
    "        return self.items == []\n",
    " \n",
    "    def push(self, value):\n",
    "        self.items.append(value)\n",
    " \n",
    "    def pop(self):\n",
    "        return self.items.pop()\n",
    "s = stack()\n",
    "op_paren=['(','{','[']\n",
    "cls_paren=[')','}',']']\n",
    "def check_balance(str):\n",
    "    if len(str)%2!=0:\n",
    "        return \"unbalanced\"\n",
    "    for i in str:\n",
    "        if i in op_paren:\n",
    "            s.push(i)\n",
    "        elif i in cls_paren:\n",
    "            pos=cls_paren.index(i)\n",
    "            if s.isempty()==False and op_paren[pos] == s.items[-1]:\n",
    "                s.pop()\n",
    "            else:\n",
    "                return \"unbalanced\"\n",
    "    return \"balanced\"       \n",
    "        \n",
    "            \n"
   ]
  },
  {
   "cell_type": "code",
   "execution_count": 3,
   "metadata": {},
   "outputs": [
    {
     "name": "stdout",
     "output_type": "stream",
     "text": [
      "unbalanced\n"
     ]
    }
   ],
   "source": [
    "print(check_balance(\"{[(})}\"))"
   ]
  },
  {
   "cell_type": "code",
   "execution_count": 4,
   "metadata": {},
   "outputs": [
    {
     "name": "stdout",
     "output_type": "stream",
     "text": [
      "balanced\n"
     ]
    }
   ],
   "source": [
    "print(check_balance(\"([]{})\"))          "
   ]
  },
  {
   "cell_type": "code",
   "execution_count": 5,
   "metadata": {},
   "outputs": [
    {
     "name": "stdout",
     "output_type": "stream",
     "text": [
      "unbalanced\n"
     ]
    }
   ],
   "source": [
    "print(check_balance(\"{)\"))"
   ]
  }
 ],
 "metadata": {
  "kernelspec": {
   "display_name": "Python 3",
   "language": "python",
   "name": "python3"
  },
  "language_info": {
   "codemirror_mode": {
    "name": "ipython",
    "version": 3
   },
   "file_extension": ".py",
   "mimetype": "text/x-python",
   "name": "python",
   "nbconvert_exporter": "python",
   "pygments_lexer": "ipython3",
   "version": "3.7.3"
  }
 },
 "nbformat": 4,
 "nbformat_minor": 4
}
