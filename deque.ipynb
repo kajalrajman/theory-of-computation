{
 "cells": [
  {
   "cell_type": "markdown",
   "metadata": {},
   "source": [
    "program for deque"
   ]
  },
  {
   "cell_type": "code",
   "execution_count": null,
   "metadata": {},
   "outputs": [
    {
     "name": "stdin",
     "output_type": "stream",
     "text": [
      "enter your choice: \n",
      "1-insert \n",
      "2-delete \n",
      "3-print deque \n",
      "4 exit 1\n",
      "enter value to be inserted 1\n",
      "enter choice \n",
      " 'f' for front \n",
      " 'r' for rear  f\n"
     ]
    },
    {
     "name": "stdout",
     "output_type": "stream",
     "text": [
      "[1]\n"
     ]
    },
    {
     "name": "stdin",
     "output_type": "stream",
     "text": [
      "enter your choice: \n",
      "1-insert \n",
      "2-delete \n",
      "3-print deque \n",
      "4 exit 1\n",
      "enter value to be inserted 2\n",
      "enter choice \n",
      " 'f' for front \n",
      " 'r' for rear  f\n"
     ]
    },
    {
     "name": "stdout",
     "output_type": "stream",
     "text": [
      "[2, 1]\n"
     ]
    },
    {
     "name": "stdin",
     "output_type": "stream",
     "text": [
      "enter your choice: \n",
      "1-insert \n",
      "2-delete \n",
      "3-print deque \n",
      "4 exit 1\n",
      "enter value to be inserted 4\n",
      "enter choice \n",
      " 'f' for front \n",
      " 'r' for rear  r\n"
     ]
    },
    {
     "name": "stdout",
     "output_type": "stream",
     "text": [
      "[2, 1, 4]\n"
     ]
    },
    {
     "name": "stdin",
     "output_type": "stream",
     "text": [
      "enter your choice: \n",
      "1-insert \n",
      "2-delete \n",
      "3-print deque \n",
      "4 exit 2\n"
     ]
    }
   ],
   "source": [
    "class Deque:\n",
    "    def __init__(self):\n",
    "        self.q=[]\n",
    "    def enqueue(self,i,c):\n",
    "        if (c=='f'):\n",
    "            self.q.insert(0,i)\n",
    "            print(self.q)\n",
    "        else:\n",
    "            self.q.append(i)\n",
    "            print(self.q)\n",
    "    def dequeue(self,c):\n",
    "        if (len(self.q)==0):\n",
    "            print(\"queue is empty\")\n",
    "        elif (c=='f'):\n",
    "            self.q.pop(0)\n",
    "            print(self.q)\n",
    "        else:\n",
    "            self.q.pop(-1)\n",
    "            print(self.q)\n",
    "    def printdeque(self):\n",
    "        if (len(self.q)==0):\n",
    "            print(\"queue is empty\")\n",
    "        for i in self.q:\n",
    "            print(i)\n",
    "obj=Deque()\n",
    "choice=int(input(\"enter your choice: \\n1-insert \\n2-delete \\n3-print deque \\n4 exit\"))\n",
    "while(choice!=4):\n",
    "    if choice==1:\n",
    "        val=int(input(\"enter value to be inserted\"))\n",
    "        c=input(\"enter choice \\n 'f' for front \\n 'r' for rear \")\n",
    "        obj.enqueue(val,c)\n",
    "    elif choice==2:\n",
    "         c=input(\"enter choice\\n 'f' for front \\n 'r' for rear\" )\n",
    "         obj.dequeue(c)\n",
    "    elif choice==3:\n",
    "         obj.printdeque()\n",
    "    else:\n",
    "         print(\"enter valid value\")\n",
    "    choice=int(input(\"enter your choice: \\n1-insert \\n2-delete \\n3-print deque \\n4 exit\"))        \n",
    "                     \n",
    "                     \n",
    "                    "
   ]
  },
  {
   "cell_type": "code",
   "execution_count": null,
   "metadata": {},
   "outputs": [],
   "source": []
  }
 ],
 "metadata": {
  "kernelspec": {
   "display_name": "Python 3",
   "language": "python",
   "name": "python3"
  },
  "language_info": {
   "codemirror_mode": {
    "name": "ipython",
    "version": 3
   },
   "file_extension": ".py",
   "mimetype": "text/x-python",
   "name": "python",
   "nbconvert_exporter": "python",
   "pygments_lexer": "ipython3",
   "version": "3.7.3"
  }
 },
 "nbformat": 4,
 "nbformat_minor": 4
}
