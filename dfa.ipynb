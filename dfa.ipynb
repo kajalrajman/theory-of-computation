{
 "cells": [
  {
   "cell_type": "markdown",
   "metadata": {},
   "source": [
    "program of dfa"
   ]
  },
  {
   "cell_type": "code",
   "execution_count": 1,
   "metadata": {},
   "outputs": [
    {
     "name": "stdin",
     "output_type": "stream",
     "text": [
      "Enter String 00000\n"
     ]
    },
    {
     "name": "stdout",
     "output_type": "stream",
     "text": [
      "Invalid String\n"
     ]
    }
   ],
   "source": [
    "dfa = dict()\n",
    "dfa[('q0','0')]='q0'\n",
    "dfa[('q0','1')]='q1'\n",
    "dfa[('q1','0')]='q0'\n",
    "dfa[('q1','1')]='q2'\n",
    "dfa[('q2','0')]='q0'\n",
    "dfa[('q2','1')]='q3'\n",
    "dfa[('q3','0')]='q3'\n",
    "dfa[('q3','1')]='q3'\n",
    "in_st = 'q0'\n",
    "fin_st = {'q3'}\n",
    "str = input('Enter String')\n",
    "cs = in_st \n",
    "for i in str:\n",
    "    cs = dfa[(cs,i)]\n",
    "if cs in fin_st:\n",
    "    print('Valid String')\n",
    "else :\n",
    "    print('Invalid String')"
   ]
  },
  {
   "cell_type": "code",
   "execution_count": 2,
   "metadata": {},
   "outputs": [
    {
     "name": "stdin",
     "output_type": "stream",
     "text": [
      "Enter a string 1111\n"
     ]
    },
    {
     "name": "stdout",
     "output_type": "stream",
     "text": [
      "invalid string\n"
     ]
    }
   ],
   "source": [
    "dfa={\n",
    "    'q0':{0:'q0',1:'q1'},\n",
    "    'q1':{0:'q2',1:'q1'},\n",
    "    'q2':{0:'q0',1:'q3'},\n",
    "    'q3':{0:'q3',1:'q3'}   \n",
    "}\n",
    "fi_st='q3'\n",
    "in_st='q0'\n",
    "cs=in_st\n",
    "s=list(input(\"Enter a string\"))\n",
    "for i in s:\n",
    "    i=int(i)\n",
    "    cs=dfa[cs][i]\n",
    "if cs is fi_st:\n",
    "    print(\"valid string\")\n",
    "else:\n",
    "    print(\"invalid string\")"
   ]
  },
  {
   "cell_type": "code",
   "execution_count": null,
   "metadata": {},
   "outputs": [],
   "source": []
  }
 ],
 "metadata": {
  "kernelspec": {
   "display_name": "Python 3",
   "language": "python",
   "name": "python3"
  },
  "language_info": {
   "codemirror_mode": {
    "name": "ipython",
    "version": 3
   },
   "file_extension": ".py",
   "mimetype": "text/x-python",
   "name": "python",
   "nbconvert_exporter": "python",
   "pygments_lexer": "ipython3",
   "version": "3.7.3"
  }
 },
 "nbformat": 4,
 "nbformat_minor": 4
}
